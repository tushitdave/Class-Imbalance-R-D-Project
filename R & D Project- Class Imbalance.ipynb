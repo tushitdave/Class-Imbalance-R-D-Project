{
 "cells": [
  {
   "cell_type": "code",
   "execution_count": 1,
   "metadata": {},
   "outputs": [],
   "source": [
    "import pandas as pd\n",
    "import numpy as np\n",
    "import os\n",
    "import random\n",
    "import matplotlib.pyplot as plt\n",
    "%matplotlib inline"
   ]
  },
  {
   "cell_type": "code",
   "execution_count": 2,
   "metadata": {},
   "outputs": [],
   "source": [
    "# First Quadrant\n",
    "c1_x1_1 = np.random.uniform(0,1,300)\n",
    "c1_y1_1 = np.random.uniform(0,1,300)\n",
    "# Second Quadrant\n",
    "c1_x2_2 = np.random.uniform(0,-1,300)\n",
    "c1_y2_2 = np.random.uniform(0,1,300)\n",
    "# Third Quadrant\n",
    "c1_x3_3 = np.random.uniform(0,-1,300)\n",
    "c1_y3_3 = np.random.uniform(0,-1,300)\n",
    "#Fourth Quadrant\n",
    "c1_x4_4 = np.random.uniform(0,1,300)\n",
    "c1_y4_4 = np.random.uniform(0,-1,300)"
   ]
  },
  {
   "cell_type": "code",
   "execution_count": 3,
   "metadata": {},
   "outputs": [],
   "source": [
    "class1_X = np.concatenate([c1_x1_1,c1_x2_2,c1_x3_3,c1_x4_4])\n",
    "class1_Y = np.concatenate([c1_y1_1,c1_y2_2,c1_y3_3,c1_y4_4])"
   ]
  },
  {
   "cell_type": "code",
   "execution_count": 4,
   "metadata": {},
   "outputs": [],
   "source": [
    "class1_X = pd.DataFrame(class1_X)\n",
    "class1_Y = pd.DataFrame(class1_Y)"
   ]
  },
  {
   "cell_type": "code",
   "execution_count": 5,
   "metadata": {},
   "outputs": [],
   "source": [
    "class1_X.rename(columns = {0:\"X\"},inplace = True)\n",
    "class1_Y.rename(columns = {0:\"Y\"},inplace = True)"
   ]
  },
  {
   "cell_type": "code",
   "execution_count": 6,
   "metadata": {},
   "outputs": [],
   "source": [
    "df1 = pd.concat([class1_X,class1_Y],axis = 1)"
   ]
  },
  {
   "cell_type": "code",
   "execution_count": 7,
   "metadata": {},
   "outputs": [
    {
     "data": {
      "text/html": [
       "<div>\n",
       "<style scoped>\n",
       "    .dataframe tbody tr th:only-of-type {\n",
       "        vertical-align: middle;\n",
       "    }\n",
       "\n",
       "    .dataframe tbody tr th {\n",
       "        vertical-align: top;\n",
       "    }\n",
       "\n",
       "    .dataframe thead th {\n",
       "        text-align: right;\n",
       "    }\n",
       "</style>\n",
       "<table border=\"1\" class=\"dataframe\">\n",
       "  <thead>\n",
       "    <tr style=\"text-align: right;\">\n",
       "      <th></th>\n",
       "      <th>X</th>\n",
       "      <th>Y</th>\n",
       "    </tr>\n",
       "  </thead>\n",
       "  <tbody>\n",
       "    <tr>\n",
       "      <th>0</th>\n",
       "      <td>0.220068</td>\n",
       "      <td>0.537262</td>\n",
       "    </tr>\n",
       "    <tr>\n",
       "      <th>1</th>\n",
       "      <td>0.478963</td>\n",
       "      <td>0.166153</td>\n",
       "    </tr>\n",
       "    <tr>\n",
       "      <th>2</th>\n",
       "      <td>0.129298</td>\n",
       "      <td>0.324287</td>\n",
       "    </tr>\n",
       "    <tr>\n",
       "      <th>3</th>\n",
       "      <td>0.297905</td>\n",
       "      <td>0.398411</td>\n",
       "    </tr>\n",
       "    <tr>\n",
       "      <th>4</th>\n",
       "      <td>0.596257</td>\n",
       "      <td>0.685831</td>\n",
       "    </tr>\n",
       "  </tbody>\n",
       "</table>\n",
       "</div>"
      ],
      "text/plain": [
       "          X         Y\n",
       "0  0.220068  0.537262\n",
       "1  0.478963  0.166153\n",
       "2  0.129298  0.324287\n",
       "3  0.297905  0.398411\n",
       "4  0.596257  0.685831"
      ]
     },
     "execution_count": 7,
     "metadata": {},
     "output_type": "execute_result"
    }
   ],
   "source": [
    "df1.head()"
   ]
  },
  {
   "cell_type": "code",
   "execution_count": 8,
   "metadata": {},
   "outputs": [
    {
     "data": {
      "text/plain": [
       "(1200, 2)"
      ]
     },
     "execution_count": 8,
     "metadata": {},
     "output_type": "execute_result"
    }
   ],
   "source": [
    "df1.shape"
   ]
  },
  {
   "cell_type": "code",
   "execution_count": 9,
   "metadata": {},
   "outputs": [],
   "source": [
    "# First Quadrant 3 Boxes\n",
    "c2_x1_1 = np.random.uniform(1,2,100)\n",
    "c2_y1_1 = np.random.uniform(0,1,100)\n",
    "c2_x2_2 = np.random.uniform(1,2,100)\n",
    "c2_y2_2 = np.random.uniform(1,2,100)\n",
    "c2_x3_3 = np.random.uniform(0,1,100)\n",
    "c2_y3_3 = np.random.uniform(1,2,100)\n",
    "# Second Quadrant 3 Boxes\n",
    "c2_x4_4 = np.random.uniform(0,-1,100)\n",
    "c2_y4_4 = np.random.uniform(1,2,100)\n",
    "c2_x5_5 = np.random.uniform(-1,-2,100)\n",
    "c2_y5_5 = np.random.uniform(1,2,100)\n",
    "c2_x6_6 = np.random.uniform(-1,-2,100)\n",
    "c2_y6_6 = np.random.uniform(0,1,100)\n",
    "# Third Quadrant 3 Boxes\n",
    "c2_x7_7 = np.random.uniform(-1,-2,100)\n",
    "c2_y7_7 = np.random.uniform(0,-1,100)\n",
    "c2_x8_8 = np.random.uniform(-1,-2,100)\n",
    "c2_y8_8 = np.random.uniform(-1,-2,100)\n",
    "c2_x9_9 = np.random.uniform(0,-1,100)\n",
    "c2_y9_9 = np.random.uniform(-1,-2,100)\n",
    "# Fourth Quadrant 3 Boxes\n",
    "c2_x10_10 = np.random.uniform(0,1,100)\n",
    "c2_y10_10 = np.random.uniform(-1,-2,100)\n",
    "c2_x11_11 = np.random.uniform(1,2,100)\n",
    "c2_y11_11 = np.random.uniform(-1,-2,100)\n",
    "c2_x12_12 = np.random.uniform(1,2,100)\n",
    "c2_y12_12 = np.random.uniform(0,-1,100)"
   ]
  },
  {
   "cell_type": "code",
   "execution_count": 10,
   "metadata": {},
   "outputs": [],
   "source": [
    "class2_X = np.concatenate([c2_x1_1,c2_x2_2,c2_x3_3,c2_x4_4,c2_x5_5,c2_x6_6,c2_x7_7,c2_x8_8,c2_x9_9,c2_x10_10,c2_x11_11,c2_x12_12])\n",
    "class2_Y = np.concatenate([c2_y1_1,c2_y2_2,c2_y3_3,c2_y4_4,c2_y5_5,c2_y6_6,c2_y7_7,c2_y8_8,c2_y9_9,c2_y10_10,c2_y11_11,c2_y12_12])"
   ]
  },
  {
   "cell_type": "code",
   "execution_count": 11,
   "metadata": {},
   "outputs": [],
   "source": [
    "class2_X = pd.DataFrame(class2_X)\n",
    "class2_Y = pd.DataFrame(class2_Y)"
   ]
  },
  {
   "cell_type": "code",
   "execution_count": 12,
   "metadata": {},
   "outputs": [],
   "source": [
    "class2_X.rename(columns = {0:\"X\"},inplace = True)\n",
    "class2_Y.rename(columns = {0:\"Y\"},inplace = True)"
   ]
  },
  {
   "cell_type": "code",
   "execution_count": 13,
   "metadata": {},
   "outputs": [],
   "source": [
    "df2 = pd.concat([class2_X,class2_Y],axis = 1)"
   ]
  },
  {
   "cell_type": "code",
   "execution_count": 14,
   "metadata": {},
   "outputs": [
    {
     "data": {
      "text/html": [
       "<div>\n",
       "<style scoped>\n",
       "    .dataframe tbody tr th:only-of-type {\n",
       "        vertical-align: middle;\n",
       "    }\n",
       "\n",
       "    .dataframe tbody tr th {\n",
       "        vertical-align: top;\n",
       "    }\n",
       "\n",
       "    .dataframe thead th {\n",
       "        text-align: right;\n",
       "    }\n",
       "</style>\n",
       "<table border=\"1\" class=\"dataframe\">\n",
       "  <thead>\n",
       "    <tr style=\"text-align: right;\">\n",
       "      <th></th>\n",
       "      <th>X</th>\n",
       "      <th>Y</th>\n",
       "    </tr>\n",
       "  </thead>\n",
       "  <tbody>\n",
       "    <tr>\n",
       "      <th>0</th>\n",
       "      <td>1.121379</td>\n",
       "      <td>0.305970</td>\n",
       "    </tr>\n",
       "    <tr>\n",
       "      <th>1</th>\n",
       "      <td>1.371898</td>\n",
       "      <td>0.788449</td>\n",
       "    </tr>\n",
       "    <tr>\n",
       "      <th>2</th>\n",
       "      <td>1.534080</td>\n",
       "      <td>0.899948</td>\n",
       "    </tr>\n",
       "    <tr>\n",
       "      <th>3</th>\n",
       "      <td>1.247313</td>\n",
       "      <td>0.593247</td>\n",
       "    </tr>\n",
       "    <tr>\n",
       "      <th>4</th>\n",
       "      <td>1.642321</td>\n",
       "      <td>0.709018</td>\n",
       "    </tr>\n",
       "  </tbody>\n",
       "</table>\n",
       "</div>"
      ],
      "text/plain": [
       "          X         Y\n",
       "0  1.121379  0.305970\n",
       "1  1.371898  0.788449\n",
       "2  1.534080  0.899948\n",
       "3  1.247313  0.593247\n",
       "4  1.642321  0.709018"
      ]
     },
     "execution_count": 14,
     "metadata": {},
     "output_type": "execute_result"
    }
   ],
   "source": [
    "df2.head()"
   ]
  },
  {
   "cell_type": "code",
   "execution_count": 15,
   "metadata": {},
   "outputs": [
    {
     "data": {
      "text/plain": [
       "(1200, 2)"
      ]
     },
     "execution_count": 15,
     "metadata": {},
     "output_type": "execute_result"
    }
   ],
   "source": [
    "df2.shape"
   ]
  },
  {
   "cell_type": "code",
   "execution_count": 16,
   "metadata": {},
   "outputs": [],
   "source": [
    "# First Quadrant 5 Boxes\n",
    "c3_x1_1 = np.random.uniform(2,3,60)\n",
    "c3_y1_1 = np.random.uniform(0,1,60)\n",
    "c3_x2_2 = np.random.uniform(2,3,60)\n",
    "c3_y2_2 = np.random.uniform(1,2,60)\n",
    "c3_x3_3 = np.random.uniform(2,3,60)\n",
    "c3_y3_3 = np.random.uniform(2,3,60)\n",
    "c3_x4_4 = np.random.uniform(1,2,60)\n",
    "c3_y4_4 = np.random.uniform(2,3,60)\n",
    "c3_x5_5 = np.random.uniform(0,1,60)\n",
    "c3_y5_5 = np.random.uniform(2,3,60)\n",
    "# Second Quadrant 5 Boxes\n",
    "c3_x6_6 = np.random.uniform(0,-1,60)\n",
    "c3_y6_6 = np.random.uniform(2,3,60)\n",
    "c3_x7_7 = np.random.uniform(-1,-2,60)\n",
    "c3_y7_7 = np.random.uniform(2,3,60)\n",
    "c3_x8_8 = np.random.uniform(-2,-3,60)\n",
    "c3_y8_8 = np.random.uniform(2,3,60)\n",
    "c3_x9_9 = np.random.uniform(-2,-3,60)\n",
    "c3_y9_9 = np.random.uniform(1,2,60)\n",
    "c3_x10_10 = np.random.uniform(-2,-3,60)\n",
    "c3_y10_10 = np.random.uniform(0,1,60)\n",
    "# Third Quadrant 5 Boxes\n",
    "c3_x11_11 = np.random.uniform(-2,-3,60)\n",
    "c3_y11_11 = np.random.uniform(-0,-1,60)\n",
    "c3_x12_12 = np.random.uniform(-2,-3,60)\n",
    "c3_y12_12 = np.random.uniform(-1,-2,60)\n",
    "c3_x13_13 = np.random.uniform(-2,-3,60)\n",
    "c3_y13_13 = np.random.uniform(-2,-3,60)\n",
    "c3_x14_14 = np.random.uniform(-1,-2,60)\n",
    "c3_y14_14 = np.random.uniform(-2,-3,60)\n",
    "c3_x15_15 = np.random.uniform(-0,-1,60)\n",
    "c3_y15_15 =np.random.uniform(-2,-3,60)\n",
    "# Fourth Quadrant 5 Boxes\n",
    "c3_x16_16 = np.random.uniform(0,1,60)\n",
    "c3_y16_16 = np.random.uniform(-2,-3,60)\n",
    "c3_x17_17 = np.random.uniform(1,2,60)\n",
    "c3_y17_17 = np.random.uniform(-2,-3,60)\n",
    "c3_x18_18 = np.random.uniform(2,3,60)\n",
    "c3_y18_18 = np.random.uniform(-2,-3,60)\n",
    "c3_x19_19 = np.random.uniform(2,3,60)\n",
    "c3_y19_19 = np.random.uniform(-1,-2,60)\n",
    "c3_x20_20 = np.random.uniform(2,3,60)\n",
    "c3_y20_20 = np.random.uniform(-0,-1,60)"
   ]
  },
  {
   "cell_type": "code",
   "execution_count": 17,
   "metadata": {},
   "outputs": [],
   "source": [
    "class3_X = np.concatenate([c3_x1_1,c3_x2_2,c3_x3_3,c3_x4_4,c3_x5_5,c3_x6_6,c3_x7_7,c3_x8_8,c3_x9_9,c3_x10_10,c3_x11_11,c3_x12_12,c3_x13_13,c3_x14_14,c3_x15_15,c3_x16_16,c3_x17_17,c3_x18_18,c3_x19_19,c3_x20_20])\n",
    "class3_Y = np.concatenate([c3_y1_1,c3_y2_2,c3_y3_3,c3_y4_4,c3_y5_5,c3_y6_6,c3_y7_7,c3_y8_8,c3_y9_9,c3_y10_10,c3_y11_11,c3_y12_12,c3_y13_13,c3_y14_14,c3_y15_15,c3_y16_16,c3_y17_17,c3_y18_18,c3_y19_19,c3_y20_20])"
   ]
  },
  {
   "cell_type": "code",
   "execution_count": 18,
   "metadata": {},
   "outputs": [],
   "source": [
    "class3_X = pd.DataFrame(class3_X)\n",
    "class3_Y = pd.DataFrame(class3_Y)"
   ]
  },
  {
   "cell_type": "code",
   "execution_count": 19,
   "metadata": {},
   "outputs": [],
   "source": [
    "class3_X.rename(columns = {0:\"X\"},inplace = True)\n",
    "class3_Y.rename(columns = {0:\"Y\"},inplace = True)"
   ]
  },
  {
   "cell_type": "code",
   "execution_count": 20,
   "metadata": {},
   "outputs": [],
   "source": [
    "df3 = pd.concat([class3_X,class3_Y],axis = 1)"
   ]
  },
  {
   "cell_type": "code",
   "execution_count": 21,
   "metadata": {},
   "outputs": [
    {
     "data": {
      "text/html": [
       "<div>\n",
       "<style scoped>\n",
       "    .dataframe tbody tr th:only-of-type {\n",
       "        vertical-align: middle;\n",
       "    }\n",
       "\n",
       "    .dataframe tbody tr th {\n",
       "        vertical-align: top;\n",
       "    }\n",
       "\n",
       "    .dataframe thead th {\n",
       "        text-align: right;\n",
       "    }\n",
       "</style>\n",
       "<table border=\"1\" class=\"dataframe\">\n",
       "  <thead>\n",
       "    <tr style=\"text-align: right;\">\n",
       "      <th></th>\n",
       "      <th>X</th>\n",
       "      <th>Y</th>\n",
       "    </tr>\n",
       "  </thead>\n",
       "  <tbody>\n",
       "    <tr>\n",
       "      <th>0</th>\n",
       "      <td>2.636575</td>\n",
       "      <td>0.113191</td>\n",
       "    </tr>\n",
       "    <tr>\n",
       "      <th>1</th>\n",
       "      <td>2.326617</td>\n",
       "      <td>0.860533</td>\n",
       "    </tr>\n",
       "    <tr>\n",
       "      <th>2</th>\n",
       "      <td>2.030699</td>\n",
       "      <td>0.924926</td>\n",
       "    </tr>\n",
       "    <tr>\n",
       "      <th>3</th>\n",
       "      <td>2.285344</td>\n",
       "      <td>0.265744</td>\n",
       "    </tr>\n",
       "    <tr>\n",
       "      <th>4</th>\n",
       "      <td>2.374298</td>\n",
       "      <td>0.725684</td>\n",
       "    </tr>\n",
       "  </tbody>\n",
       "</table>\n",
       "</div>"
      ],
      "text/plain": [
       "          X         Y\n",
       "0  2.636575  0.113191\n",
       "1  2.326617  0.860533\n",
       "2  2.030699  0.924926\n",
       "3  2.285344  0.265744\n",
       "4  2.374298  0.725684"
      ]
     },
     "execution_count": 21,
     "metadata": {},
     "output_type": "execute_result"
    }
   ],
   "source": [
    "df3.head()"
   ]
  },
  {
   "cell_type": "code",
   "execution_count": 22,
   "metadata": {},
   "outputs": [
    {
     "data": {
      "text/plain": [
       "(1200, 2)"
      ]
     },
     "execution_count": 22,
     "metadata": {},
     "output_type": "execute_result"
    }
   ],
   "source": [
    "df3.shape"
   ]
  },
  {
   "cell_type": "code",
   "execution_count": 23,
   "metadata": {},
   "outputs": [
    {
     "data": {
      "text/plain": [
       "<matplotlib.collections.PathCollection at 0x19ed52fdb38>"
      ]
     },
     "execution_count": 23,
     "metadata": {},
     "output_type": "execute_result"
    },
    {
     "data": {
      "image/png": "[encoded data removed]",
      "text/plain": [
       "<Figure size 432x288 with 1 Axes>"
      ]
     },
     "metadata": {
      "needs_background": "light"
     },
     "output_type": "display_data"
    }
   ],
   "source": [
    "plt.scatter(df1['X'],df1['Y'],color = 'red',s=5)\n",
    "plt.scatter(df2['X'],df2['Y'],color = 'blue',s=5)\n",
    "plt.scatter(df3['X'],df3['Y'],color = 'green',s=5)"
   ]
  },
  {
   "cell_type": "markdown",
   "metadata": {},
   "source": [
    "from mpl_toolkits.mplot3d import Axes3D\n",
    "\n",
    "fig = plt.figure(figsize=(15,10))\n",
    "ax = fig.add_subplot(111, projection='3d')\n",
    "\n",
    "ax.scatter(df1.X, df1.Y, s=50)"
   ]
  },
  {
   "cell_type": "code",
   "execution_count": 24,
   "metadata": {},
   "outputs": [],
   "source": [
    "def target(df,temp):\n",
    "    for i in range(0,len(df)):\n",
    "        df['Target']=temp"
   ]
  },
  {
   "cell_type": "code",
   "execution_count": 25,
   "metadata": {},
   "outputs": [],
   "source": [
    "target(df1,0)\n",
    "target(df2,1)\n",
    "target(df3,2)"
   ]
  },
  {
   "cell_type": "code",
   "execution_count": 26,
   "metadata": {},
   "outputs": [],
   "source": [
    "final_df=pd.concat([df1,df2,df3])"
   ]
  },
  {
   "cell_type": "code",
   "execution_count": 27,
   "metadata": {},
   "outputs": [
    {
     "data": {
      "text/plain": [
       "(3600, 3)"
      ]
     },
     "execution_count": 27,
     "metadata": {},
     "output_type": "execute_result"
    }
   ],
   "source": [
    "final_df.shape"
   ]
  },
  {
   "cell_type": "code",
   "execution_count": 28,
   "metadata": {},
   "outputs": [
    {
     "data": {
      "text/html": [
       "<div>\n",
       "<style scoped>\n",
       "    .dataframe tbody tr th:only-of-type {\n",
       "        vertical-align: middle;\n",
       "    }\n",
       "\n",
       "    .dataframe tbody tr th {\n",
       "        vertical-align: top;\n",
       "    }\n",
       "\n",
       "    .dataframe thead th {\n",
       "        text-align: right;\n",
       "    }\n",
       "</style>\n",
       "<table border=\"1\" class=\"dataframe\">\n",
       "  <thead>\n",
       "    <tr style=\"text-align: right;\">\n",
       "      <th></th>\n",
       "      <th>X</th>\n",
       "      <th>Y</th>\n",
       "      <th>Target</th>\n",
       "    </tr>\n",
       "  </thead>\n",
       "  <tbody>\n",
       "    <tr>\n",
       "      <th>count</th>\n",
       "      <td>3600.000000</td>\n",
       "      <td>3600.000000</td>\n",
       "      <td>3600.00000</td>\n",
       "    </tr>\n",
       "    <tr>\n",
       "      <th>mean</th>\n",
       "      <td>0.006142</td>\n",
       "      <td>-0.007212</td>\n",
       "      <td>1.00000</td>\n",
       "    </tr>\n",
       "    <tr>\n",
       "      <th>std</th>\n",
       "      <td>1.456396</td>\n",
       "      <td>1.454194</td>\n",
       "      <td>0.81661</td>\n",
       "    </tr>\n",
       "    <tr>\n",
       "      <th>min</th>\n",
       "      <td>-2.992807</td>\n",
       "      <td>-2.988212</td>\n",
       "      <td>0.00000</td>\n",
       "    </tr>\n",
       "    <tr>\n",
       "      <th>25%</th>\n",
       "      <td>-0.982504</td>\n",
       "      <td>-0.980334</td>\n",
       "      <td>0.00000</td>\n",
       "    </tr>\n",
       "    <tr>\n",
       "      <th>50%</th>\n",
       "      <td>0.000001</td>\n",
       "      <td>0.000706</td>\n",
       "      <td>1.00000</td>\n",
       "    </tr>\n",
       "    <tr>\n",
       "      <th>75%</th>\n",
       "      <td>0.982084</td>\n",
       "      <td>0.974430</td>\n",
       "      <td>2.00000</td>\n",
       "    </tr>\n",
       "    <tr>\n",
       "      <th>max</th>\n",
       "      <td>2.998838</td>\n",
       "      <td>2.999460</td>\n",
       "      <td>2.00000</td>\n",
       "    </tr>\n",
       "  </tbody>\n",
       "</table>\n",
       "</div>"
      ],
      "text/plain": [
       "                 X            Y      Target\n",
       "count  3600.000000  3600.000000  3600.00000\n",
       "mean      0.006142    -0.007212     1.00000\n",
       "std       1.456396     1.454194     0.81661\n",
       "min      -2.992807    -2.988212     0.00000\n",
       "25%      -0.982504    -0.980334     0.00000\n",
       "50%       0.000001     0.000706     1.00000\n",
       "75%       0.982084     0.974430     2.00000\n",
       "max       2.998838     2.999460     2.00000"
      ]
     },
     "execution_count": 28,
     "metadata": {},
     "output_type": "execute_result"
    }
   ],
   "source": [
    "final_df.describe(include='all')"
   ]
  },
  {
   "cell_type": "code",
   "execution_count": 29,
   "metadata": {},
   "outputs": [
    {
     "data": {
      "text/plain": [
       "1    33.333333\n",
       "2    33.333333\n",
       "0    33.333333\n",
       "Name: Target, dtype: float64"
      ]
     },
     "execution_count": 29,
     "metadata": {},
     "output_type": "execute_result"
    }
   ],
   "source": [
    "100*final_df.Target.value_counts()/len(final_df.Target)"
   ]
  },
  {
   "cell_type": "code",
   "execution_count": 30,
   "metadata": {},
   "outputs": [
    {
     "data": {
      "image/png": "[encoded data removed]",
      "text/plain": [
       "<Figure size 720x360 with 1 Axes>"
      ]
     },
     "metadata": {
      "needs_background": "light"
     },
     "output_type": "display_data"
    }
   ],
   "source": [
    "plt.figure(figsize=(10,5))\n",
    "count_classes = pd.value_counts(final_df['Target'], sort = True)\n",
    "count_classes.plot(kind = 'bar', rot=0,color='#819980')\n",
    "plt.title(\"Frequency of each level\")\n",
    "plt.xlabel(\"Class\")\n",
    "plt.ylabel(\"Number of Observations\");"
   ]
  },
  {
   "cell_type": "code",
   "execution_count": 31,
   "metadata": {},
   "outputs": [
    {
     "data": {
      "text/html": [
       "<div>\n",
       "<style scoped>\n",
       "    .dataframe tbody tr th:only-of-type {\n",
       "        vertical-align: middle;\n",
       "    }\n",
       "\n",
       "    .dataframe tbody tr th {\n",
       "        vertical-align: top;\n",
       "    }\n",
       "\n",
       "    .dataframe thead th {\n",
       "        text-align: right;\n",
       "    }\n",
       "</style>\n",
       "<table border=\"1\" class=\"dataframe\">\n",
       "  <thead>\n",
       "    <tr style=\"text-align: right;\">\n",
       "      <th></th>\n",
       "      <th>X</th>\n",
       "      <th>Y</th>\n",
       "      <th>Target</th>\n",
       "    </tr>\n",
       "  </thead>\n",
       "  <tbody>\n",
       "    <tr>\n",
       "      <th>0</th>\n",
       "      <td>0.220068</td>\n",
       "      <td>0.537262</td>\n",
       "      <td>0</td>\n",
       "    </tr>\n",
       "    <tr>\n",
       "      <th>1</th>\n",
       "      <td>0.478963</td>\n",
       "      <td>0.166153</td>\n",
       "      <td>0</td>\n",
       "    </tr>\n",
       "    <tr>\n",
       "      <th>2</th>\n",
       "      <td>0.129298</td>\n",
       "      <td>0.324287</td>\n",
       "      <td>0</td>\n",
       "    </tr>\n",
       "    <tr>\n",
       "      <th>3</th>\n",
       "      <td>0.297905</td>\n",
       "      <td>0.398411</td>\n",
       "      <td>0</td>\n",
       "    </tr>\n",
       "    <tr>\n",
       "      <th>4</th>\n",
       "      <td>0.596257</td>\n",
       "      <td>0.685831</td>\n",
       "      <td>0</td>\n",
       "    </tr>\n",
       "  </tbody>\n",
       "</table>\n",
       "</div>"
      ],
      "text/plain": [
       "          X         Y  Target\n",
       "0  0.220068  0.537262       0\n",
       "1  0.478963  0.166153       0\n",
       "2  0.129298  0.324287       0\n",
       "3  0.297905  0.398411       0\n",
       "4  0.596257  0.685831       0"
      ]
     },
     "execution_count": 31,
     "metadata": {},
     "output_type": "execute_result"
    }
   ],
   "source": [
    "final_df.head()"
   ]
  },
  {
   "cell_type": "code",
   "execution_count": 32,
   "metadata": {},
   "outputs": [],
   "source": [
    "def adding_impurity(x,y,start,end):\n",
    "    var=[]\n",
    "    for i in range(x,y):\n",
    "        rnd=random.uniform(start,end)\n",
    "        var.append(rnd)\n",
    "    return var"
   ]
  },
  {
   "cell_type": "code",
   "execution_count": 33,
   "metadata": {},
   "outputs": [],
   "source": [
    "a=adding_impurity(0,len(final_df),0,0.5)\n",
    "b=adding_impurity(0,len(final_df),0,0.5)"
   ]
  },
  {
   "cell_type": "code",
   "execution_count": 34,
   "metadata": {},
   "outputs": [],
   "source": [
    "final_df['X']=final_df['X']+a[0]\n",
    "final_df['Y']=final_df['Y']+b[0]"
   ]
  },
  {
   "cell_type": "code",
   "execution_count": 35,
   "metadata": {},
   "outputs": [],
   "source": [
    "df_0=final_df[final_df.Target==0]\n",
    "df_1=final_df[final_df.Target==1]\n",
    "df_2=final_df[final_df.Target==2]"
   ]
  },
  {
   "cell_type": "code",
   "execution_count": 36,
   "metadata": {},
   "outputs": [
    {
     "data": {
      "text/plain": [
       "<matplotlib.collections.PathCollection at 0x19ed5471b00>"
      ]
     },
     "execution_count": 36,
     "metadata": {},
     "output_type": "execute_result"
    },
    {
     "data": {
      "image/png": "[encoded data removed]",
      "text/plain": [
       "<Figure size 432x288 with 1 Axes>"
      ]
     },
     "metadata": {
      "needs_background": "light"
     },
     "output_type": "display_data"
    }
   ],
   "source": [
    "plt.scatter(df_0['X'],df_0['Y'],color = 'red',s=5)\n",
    "plt.scatter(df_1['X'],df_1['Y'],color = 'blue',s=5)\n",
    "plt.scatter(df_2['X'],df_2['Y'],color = 'green',s=5)"
   ]
  }
 ],
 "metadata": {
  "kernelspec": {
   "display_name": "Python 3",
   "language": "python",
   "name": "python3"
  },
  "language_info": {
   "codemirror_mode": {
    "name": "ipython",
    "version": 3
   },
   "file_extension": ".py",
   "mimetype": "text/x-python",
   "name": "python",
   "nbconvert_exporter": "python",
   "pygments_lexer": "ipython3",
   "version": "3.7.3"
  }
 },
 "nbformat": 4,
 "nbformat_minor": 2
}
